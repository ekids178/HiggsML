{
 "cells": [
  {
   "cell_type": "markdown",
   "id": "1d29ca13",
   "metadata": {},
   "source": [
    "# PAC with datasets from CERN opendata\n",
    "## PCA & packages"
   ]
  },
  {
   "cell_type": "code",
   "execution_count": 1,
   "id": "d393460a",
   "metadata": {},
   "outputs": [],
   "source": [
    "import matplotlib.pyplot as plt\n",
    "from sklearn import preprocessing\n",
    "import numpy as np\n",
    "from mpl_toolkits.mplot3d import Axes3D\n",
    "from sklearn import datasets\n",
    "from sklearn.decomposition import PCA\n",
    "import pandas as pd\n",
    "import io"
   ]
  },
  {
   "cell_type": "markdown",
   "id": "b5362b5b",
   "metadata": {},
   "source": [
    "## Data"
   ]
  },
  {
   "cell_type": "code",
   "execution_count": 2,
   "id": "449aee7a",
   "metadata": {},
   "outputs": [],
   "source": [
    "data = pd.read_csv('training.csv')"
   ]
  },
  {
   "cell_type": "code",
   "execution_count": 3,
   "id": "38255acf",
   "metadata": {},
   "outputs": [
    {
     "name": "stdout",
     "output_type": "stream",
     "text": [
      "<class 'pandas.core.frame.DataFrame'>\n",
      "RangeIndex: 250000 entries, 0 to 249999\n",
      "Data columns (total 33 columns):\n",
      " #   Column                       Non-Null Count   Dtype  \n",
      "---  ------                       --------------   -----  \n",
      " 0   EventId                      250000 non-null  int64  \n",
      " 1   DER_mass_MMC                 250000 non-null  float64\n",
      " 2   DER_mass_transverse_met_lep  250000 non-null  float64\n",
      " 3   DER_mass_vis                 250000 non-null  float64\n",
      " 4   DER_pt_h                     250000 non-null  float64\n",
      " 5   DER_deltaeta_jet_jet         250000 non-null  float64\n",
      " 6   DER_mass_jet_jet             250000 non-null  float64\n",
      " 7   DER_prodeta_jet_jet          250000 non-null  float64\n",
      " 8   DER_deltar_tau_lep           250000 non-null  float64\n",
      " 9   DER_pt_tot                   250000 non-null  float64\n",
      " 10  DER_sum_pt                   250000 non-null  float64\n",
      " 11  DER_pt_ratio_lep_tau         250000 non-null  float64\n",
      " 12  DER_met_phi_centrality       250000 non-null  float64\n",
      " 13  DER_lep_eta_centrality       250000 non-null  float64\n",
      " 14  PRI_tau_pt                   250000 non-null  float64\n",
      " 15  PRI_tau_eta                  250000 non-null  float64\n",
      " 16  PRI_tau_phi                  250000 non-null  float64\n",
      " 17  PRI_lep_pt                   250000 non-null  float64\n",
      " 18  PRI_lep_eta                  250000 non-null  float64\n",
      " 19  PRI_lep_phi                  250000 non-null  float64\n",
      " 20  PRI_met                      250000 non-null  float64\n",
      " 21  PRI_met_phi                  250000 non-null  float64\n",
      " 22  PRI_met_sumet                250000 non-null  float64\n",
      " 23  PRI_jet_num                  250000 non-null  int64  \n",
      " 24  PRI_jet_leading_pt           250000 non-null  float64\n",
      " 25  PRI_jet_leading_eta          250000 non-null  float64\n",
      " 26  PRI_jet_leading_phi          250000 non-null  float64\n",
      " 27  PRI_jet_subleading_pt        250000 non-null  float64\n",
      " 28  PRI_jet_subleading_eta       250000 non-null  float64\n",
      " 29  PRI_jet_subleading_phi       250000 non-null  float64\n",
      " 30  PRI_jet_all_pt               250000 non-null  float64\n",
      " 31  Weight                       250000 non-null  float64\n",
      " 32  Label                        250000 non-null  object \n",
      "dtypes: float64(30), int64(2), object(1)\n",
      "memory usage: 62.9+ MB\n"
     ]
    }
   ],
   "source": [
    "data.info()"
   ]
  },
  {
   "cell_type": "code",
   "execution_count": 4,
   "id": "d0fb653f",
   "metadata": {},
   "outputs": [
    {
     "name": "stdout",
     "output_type": "stream",
     "text": [
      "   EventId  DER_mass_MMC  DER_mass_transverse_met_lep  DER_mass_vis  DER_pt_h  \\\n",
      "0   100000       138.470                       51.655        97.827    27.980   \n",
      "1   100001       160.937                       68.768       103.235    48.146   \n",
      "2   100002      -999.000                      162.172       125.953    35.635   \n",
      "3   100003       143.905                       81.417        80.943     0.414   \n",
      "4   100004       175.864                       16.915       134.805    16.405   \n",
      "\n",
      "   DER_deltaeta_jet_jet  DER_mass_jet_jet  DER_prodeta_jet_jet  \\\n",
      "0                  0.91           124.711                2.666   \n",
      "1               -999.00          -999.000             -999.000   \n",
      "2               -999.00          -999.000             -999.000   \n",
      "3               -999.00          -999.000             -999.000   \n",
      "4               -999.00          -999.000             -999.000   \n",
      "\n",
      "   DER_deltar_tau_lep  DER_pt_tot  ...  PRI_jet_num  PRI_jet_leading_pt  \\\n",
      "0               3.064      41.928  ...            2              67.435   \n",
      "1               3.473       2.078  ...            1              46.226   \n",
      "2               3.148       9.336  ...            1              44.251   \n",
      "3               3.310       0.414  ...            0            -999.000   \n",
      "4               3.891      16.405  ...            0            -999.000   \n",
      "\n",
      "   PRI_jet_leading_eta  PRI_jet_leading_phi  PRI_jet_subleading_pt  \\\n",
      "0                2.150                0.444                 46.062   \n",
      "1                0.725                1.158               -999.000   \n",
      "2                2.053               -2.028               -999.000   \n",
      "3             -999.000             -999.000               -999.000   \n",
      "4             -999.000             -999.000               -999.000   \n",
      "\n",
      "   PRI_jet_subleading_eta  PRI_jet_subleading_phi  PRI_jet_all_pt    Weight  \\\n",
      "0                    1.24                  -2.475         113.497  0.002653   \n",
      "1                 -999.00                -999.000          46.226  2.233584   \n",
      "2                 -999.00                -999.000          44.251  2.347389   \n",
      "3                 -999.00                -999.000          -0.000  5.446378   \n",
      "4                 -999.00                -999.000           0.000  6.245333   \n",
      "\n",
      "   Label  \n",
      "0      s  \n",
      "1      b  \n",
      "2      b  \n",
      "3      b  \n",
      "4      b  \n",
      "\n",
      "[5 rows x 33 columns]\n",
      "(250000, 33)\n"
     ]
    }
   ],
   "source": [
    "print(data.head())\n",
    "print(data.shape)"
   ]
  },
  {
   "cell_type": "code",
   "execution_count": 5,
   "id": "7d4038d4",
   "metadata": {},
   "outputs": [
    {
     "name": "stdout",
     "output_type": "stream",
     "text": [
      "        EventId  DER_mass_MMC  DER_mass_transverse_met_lep  DER_mass_vis  \\\n",
      "0        100000       138.470                       51.655        97.827   \n",
      "1        100001       160.937                       68.768       103.235   \n",
      "2        100002      -999.000                      162.172       125.953   \n",
      "3        100003       143.905                       81.417        80.943   \n",
      "4        100004       175.864                       16.915       134.805   \n",
      "...         ...           ...                          ...           ...   \n",
      "249995   349995      -999.000                       71.989        36.548   \n",
      "249996   349996      -999.000                       58.179        68.083   \n",
      "249997   349997       105.457                       60.526        75.839   \n",
      "249998   349998        94.951                       19.362        68.812   \n",
      "249999   349999      -999.000                       72.756        70.831   \n",
      "\n",
      "        DER_pt_h  DER_deltaeta_jet_jet  DER_mass_jet_jet  DER_prodeta_jet_jet  \\\n",
      "0         27.980                  0.91           124.711                2.666   \n",
      "1         48.146               -999.00          -999.000             -999.000   \n",
      "2         35.635               -999.00          -999.000             -999.000   \n",
      "3          0.414               -999.00          -999.000             -999.000   \n",
      "4         16.405               -999.00          -999.000             -999.000   \n",
      "...          ...                   ...               ...                  ...   \n",
      "249995     5.042               -999.00          -999.000             -999.000   \n",
      "249996    22.439               -999.00          -999.000             -999.000   \n",
      "249997    39.757               -999.00          -999.000             -999.000   \n",
      "249998    13.504               -999.00          -999.000             -999.000   \n",
      "249999     7.479               -999.00          -999.000             -999.000   \n",
      "\n",
      "        DER_deltar_tau_lep  DER_pt_tot  ...  PRI_jet_num  PRI_jet_leading_pt  \\\n",
      "0                    3.064      41.928  ...            2              67.435   \n",
      "1                    3.473       2.078  ...            1              46.226   \n",
      "2                    3.148       9.336  ...            1              44.251   \n",
      "3                    3.310       0.414  ...            0            -999.000   \n",
      "4                    3.891      16.405  ...            0            -999.000   \n",
      "...                    ...         ...  ...          ...                 ...   \n",
      "249995               1.392       5.042  ...            0            -999.000   \n",
      "249996               2.585      22.439  ...            0            -999.000   \n",
      "249997               2.390      22.183  ...            1              41.992   \n",
      "249998               3.365      13.504  ...            0            -999.000   \n",
      "249999               2.025       7.479  ...            0            -999.000   \n",
      "\n",
      "        PRI_jet_leading_eta  PRI_jet_leading_phi  PRI_jet_subleading_pt  \\\n",
      "0                     2.150                0.444                 46.062   \n",
      "1                     0.725                1.158               -999.000   \n",
      "2                     2.053               -2.028               -999.000   \n",
      "3                  -999.000             -999.000               -999.000   \n",
      "4                  -999.000             -999.000               -999.000   \n",
      "...                     ...                  ...                    ...   \n",
      "249995             -999.000             -999.000               -999.000   \n",
      "249996             -999.000             -999.000               -999.000   \n",
      "249997                1.800               -0.166               -999.000   \n",
      "249998             -999.000             -999.000               -999.000   \n",
      "249999             -999.000             -999.000               -999.000   \n",
      "\n",
      "        PRI_jet_subleading_eta  PRI_jet_subleading_phi  PRI_jet_all_pt  \\\n",
      "0                         1.24                  -2.475         113.497   \n",
      "1                      -999.00                -999.000          46.226   \n",
      "2                      -999.00                -999.000          44.251   \n",
      "3                      -999.00                -999.000          -0.000   \n",
      "4                      -999.00                -999.000           0.000   \n",
      "...                        ...                     ...             ...   \n",
      "249995                 -999.00                -999.000           0.000   \n",
      "249996                 -999.00                -999.000          -0.000   \n",
      "249997                 -999.00                -999.000          41.992   \n",
      "249998                 -999.00                -999.000           0.000   \n",
      "249999                 -999.00                -999.000           0.000   \n",
      "\n",
      "          Weight  Label  \n",
      "0       0.002653      s  \n",
      "1       2.233584      b  \n",
      "2       2.347389      b  \n",
      "3       5.446378      b  \n",
      "4       6.245333      b  \n",
      "...          ...    ...  \n",
      "249995  4.505083      b  \n",
      "249996  2.497259      b  \n",
      "249997  0.018636      s  \n",
      "249998  1.681611      b  \n",
      "249999  1.877474      b  \n",
      "\n",
      "[250000 rows x 33 columns]\n"
     ]
    }
   ],
   "source": [
    "data.dropna(inplace=True)  #只要資料有nan就刪除\n",
    "print(data)"
   ]
  },
  {
   "cell_type": "code",
   "execution_count": 6,
   "id": "9f9218cf",
   "metadata": {},
   "outputs": [
    {
     "ename": "ValueError",
     "evalue": "could not convert string to float: 's'",
     "output_type": "error",
     "traceback": [
      "\u001b[1;31m---------------------------------------------------------------------------\u001b[0m",
      "\u001b[1;31mValueError\u001b[0m                                Traceback (most recent call last)",
      "\u001b[1;32m~\\AppData\\Local\\Temp/ipykernel_29192/1646037439.py\u001b[0m in \u001b[0;36m<module>\u001b[1;34m\u001b[0m\n\u001b[0;32m      1\u001b[0m \u001b[0mpca\u001b[0m \u001b[1;33m=\u001b[0m \u001b[0mPCA\u001b[0m\u001b[1;33m(\u001b[0m\u001b[0mn_components\u001b[0m \u001b[1;33m=\u001b[0m \u001b[1;36m0.95\u001b[0m\u001b[1;33m)\u001b[0m\u001b[1;33m\u001b[0m\u001b[1;33m\u001b[0m\u001b[0m\n\u001b[1;32m----> 2\u001b[1;33m \u001b[0mn_data\u001b[0m \u001b[1;33m=\u001b[0m \u001b[0mpreprocessing\u001b[0m\u001b[1;33m.\u001b[0m\u001b[0mscale\u001b[0m\u001b[1;33m(\u001b[0m\u001b[0mdata\u001b[0m\u001b[1;33m)\u001b[0m\u001b[1;33m\u001b[0m\u001b[1;33m\u001b[0m\u001b[0m\n\u001b[0m\u001b[0;32m      3\u001b[0m \u001b[0mprint\u001b[0m\u001b[1;33m(\u001b[0m\u001b[0mn_data\u001b[0m\u001b[1;33m)\u001b[0m\u001b[1;33m\u001b[0m\u001b[1;33m\u001b[0m\u001b[0m\n\u001b[0;32m      4\u001b[0m \u001b[1;33m\u001b[0m\u001b[0m\n\u001b[0;32m      5\u001b[0m \u001b[0mz\u001b[0m\u001b[1;33m=\u001b[0m\u001b[0mpca\u001b[0m\u001b[1;33m.\u001b[0m\u001b[0mfit_transform\u001b[0m\u001b[1;33m(\u001b[0m\u001b[0mn_data\u001b[0m\u001b[1;33m)\u001b[0m\u001b[1;33m\u001b[0m\u001b[1;33m\u001b[0m\u001b[0m\n",
      "\u001b[1;32m~\\.virtualenvs\\Hep_project-b6tYHBmR\\lib\\site-packages\\sklearn\\preprocessing\\_data.py\u001b[0m in \u001b[0;36mscale\u001b[1;34m(X, axis, with_mean, with_std, copy)\u001b[0m\n\u001b[0;32m    192\u001b[0m \u001b[1;33m\u001b[0m\u001b[0m\n\u001b[0;32m    193\u001b[0m     \"\"\"  # noqa\n\u001b[1;32m--> 194\u001b[1;33m     X = check_array(\n\u001b[0m\u001b[0;32m    195\u001b[0m         \u001b[0mX\u001b[0m\u001b[1;33m,\u001b[0m\u001b[1;33m\u001b[0m\u001b[1;33m\u001b[0m\u001b[0m\n\u001b[0;32m    196\u001b[0m         \u001b[0maccept_sparse\u001b[0m\u001b[1;33m=\u001b[0m\u001b[1;34m\"csc\"\u001b[0m\u001b[1;33m,\u001b[0m\u001b[1;33m\u001b[0m\u001b[1;33m\u001b[0m\u001b[0m\n",
      "\u001b[1;32m~\\.virtualenvs\\Hep_project-b6tYHBmR\\lib\\site-packages\\sklearn\\utils\\validation.py\u001b[0m in \u001b[0;36mcheck_array\u001b[1;34m(array, accept_sparse, accept_large_sparse, dtype, order, copy, force_all_finite, ensure_2d, allow_nd, ensure_min_samples, ensure_min_features, estimator)\u001b[0m\n\u001b[0;32m    736\u001b[0m                     \u001b[0marray\u001b[0m \u001b[1;33m=\u001b[0m \u001b[0marray\u001b[0m\u001b[1;33m.\u001b[0m\u001b[0mastype\u001b[0m\u001b[1;33m(\u001b[0m\u001b[0mdtype\u001b[0m\u001b[1;33m,\u001b[0m \u001b[0mcasting\u001b[0m\u001b[1;33m=\u001b[0m\u001b[1;34m\"unsafe\"\u001b[0m\u001b[1;33m,\u001b[0m \u001b[0mcopy\u001b[0m\u001b[1;33m=\u001b[0m\u001b[1;32mFalse\u001b[0m\u001b[1;33m)\u001b[0m\u001b[1;33m\u001b[0m\u001b[1;33m\u001b[0m\u001b[0m\n\u001b[0;32m    737\u001b[0m                 \u001b[1;32melse\u001b[0m\u001b[1;33m:\u001b[0m\u001b[1;33m\u001b[0m\u001b[1;33m\u001b[0m\u001b[0m\n\u001b[1;32m--> 738\u001b[1;33m                     \u001b[0marray\u001b[0m \u001b[1;33m=\u001b[0m \u001b[0mnp\u001b[0m\u001b[1;33m.\u001b[0m\u001b[0masarray\u001b[0m\u001b[1;33m(\u001b[0m\u001b[0marray\u001b[0m\u001b[1;33m,\u001b[0m \u001b[0morder\u001b[0m\u001b[1;33m=\u001b[0m\u001b[0morder\u001b[0m\u001b[1;33m,\u001b[0m \u001b[0mdtype\u001b[0m\u001b[1;33m=\u001b[0m\u001b[0mdtype\u001b[0m\u001b[1;33m)\u001b[0m\u001b[1;33m\u001b[0m\u001b[1;33m\u001b[0m\u001b[0m\n\u001b[0m\u001b[0;32m    739\u001b[0m             \u001b[1;32mexcept\u001b[0m \u001b[0mComplexWarning\u001b[0m \u001b[1;32mas\u001b[0m \u001b[0mcomplex_warning\u001b[0m\u001b[1;33m:\u001b[0m\u001b[1;33m\u001b[0m\u001b[1;33m\u001b[0m\u001b[0m\n\u001b[0;32m    740\u001b[0m                 raise ValueError(\n",
      "\u001b[1;32m~\\.virtualenvs\\Hep_project-b6tYHBmR\\lib\\site-packages\\pandas\\core\\generic.py\u001b[0m in \u001b[0;36m__array__\u001b[1;34m(self, dtype)\u001b[0m\n\u001b[0;32m   1991\u001b[0m \u001b[1;33m\u001b[0m\u001b[0m\n\u001b[0;32m   1992\u001b[0m     \u001b[1;32mdef\u001b[0m \u001b[0m__array__\u001b[0m\u001b[1;33m(\u001b[0m\u001b[0mself\u001b[0m\u001b[1;33m,\u001b[0m \u001b[0mdtype\u001b[0m\u001b[1;33m:\u001b[0m \u001b[0mNpDtype\u001b[0m \u001b[1;33m|\u001b[0m \u001b[1;32mNone\u001b[0m \u001b[1;33m=\u001b[0m \u001b[1;32mNone\u001b[0m\u001b[1;33m)\u001b[0m \u001b[1;33m->\u001b[0m \u001b[0mnp\u001b[0m\u001b[1;33m.\u001b[0m\u001b[0mndarray\u001b[0m\u001b[1;33m:\u001b[0m\u001b[1;33m\u001b[0m\u001b[1;33m\u001b[0m\u001b[0m\n\u001b[1;32m-> 1993\u001b[1;33m         \u001b[1;32mreturn\u001b[0m \u001b[0mnp\u001b[0m\u001b[1;33m.\u001b[0m\u001b[0masarray\u001b[0m\u001b[1;33m(\u001b[0m\u001b[0mself\u001b[0m\u001b[1;33m.\u001b[0m\u001b[0m_values\u001b[0m\u001b[1;33m,\u001b[0m \u001b[0mdtype\u001b[0m\u001b[1;33m=\u001b[0m\u001b[0mdtype\u001b[0m\u001b[1;33m)\u001b[0m\u001b[1;33m\u001b[0m\u001b[1;33m\u001b[0m\u001b[0m\n\u001b[0m\u001b[0;32m   1994\u001b[0m \u001b[1;33m\u001b[0m\u001b[0m\n\u001b[0;32m   1995\u001b[0m     def __array_wrap__(\n",
      "\u001b[1;31mValueError\u001b[0m: could not convert string to float: 's'"
     ]
    }
   ],
   "source": [
    "pca = PCA(n_components = 0.95)\n",
    "n_data = preprocessing.scale(data)\n",
    "print(n_data)\n",
    "\n",
    "z=pca.fit_transform(n_data)\n",
    "\n",
    "print('pca後維度:',pca.n_components_)"
   ]
  },
  {
   "cell_type": "code",
   "execution_count": null,
   "id": "de632926",
   "metadata": {},
   "outputs": [],
   "source": [
    "np.sum(pca.explained_variance_ratio_)#它代表降维後的各主成分的方差值占總方差值的比例，這個比例越大，則越是重要的主成分。"
   ]
  },
  {
   "cell_type": "code",
   "execution_count": null,
   "id": "87bc173f",
   "metadata": {},
   "outputs": [],
   "source": [
    "np.sum(pca.explained_variance_)#它代表降维后的各主成分的方差值。方差值越大，則說明越是重要的主成分"
   ]
  },
  {
   "cell_type": "code",
   "execution_count": null,
   "id": "6786f94d",
   "metadata": {},
   "outputs": [],
   "source": [
    "#(資料筆數，維度)\n",
    "print('z.shape :',z.shape)\n",
    "print('data.shape :',n_data.shape)"
   ]
  },
  {
   "cell_type": "code",
   "execution_count": 7,
   "id": "533f0f06",
   "metadata": {},
   "outputs": [
    {
     "ename": "NameError",
     "evalue": "name 'z' is not defined",
     "output_type": "error",
     "traceback": [
      "\u001b[1;31m---------------------------------------------------------------------------\u001b[0m",
      "\u001b[1;31mNameError\u001b[0m                                 Traceback (most recent call last)",
      "\u001b[1;32m~\\AppData\\Local\\Temp/ipykernel_29192/557461111.py\u001b[0m in \u001b[0;36m<module>\u001b[1;34m\u001b[0m\n\u001b[1;32m----> 1\u001b[1;33m \u001b[0mprint\u001b[0m\u001b[1;33m(\u001b[0m\u001b[0mz\u001b[0m\u001b[1;33m)\u001b[0m\u001b[1;33m\u001b[0m\u001b[1;33m\u001b[0m\u001b[0m\n\u001b[0m",
      "\u001b[1;31mNameError\u001b[0m: name 'z' is not defined"
     ]
    }
   ],
   "source": [
    "print(z)"
   ]
  },
  {
   "cell_type": "markdown",
   "id": "1607ce42",
   "metadata": {},
   "source": [
    "## Visualization"
   ]
  },
  {
   "cell_type": "code",
   "execution_count": 8,
   "id": "b64006e7",
   "metadata": {},
   "outputs": [
    {
     "ename": "AttributeError",
     "evalue": "'PCA' object has no attribute 'explained_variance_ratio_'",
     "output_type": "error",
     "traceback": [
      "\u001b[1;31m---------------------------------------------------------------------------\u001b[0m",
      "\u001b[1;31mAttributeError\u001b[0m                            Traceback (most recent call last)",
      "\u001b[1;32m~\\AppData\\Local\\Temp/ipykernel_29192/920671393.py\u001b[0m in \u001b[0;36m<module>\u001b[1;34m\u001b[0m\n\u001b[0;32m      5\u001b[0m \u001b[1;31m#plt.style.context('seaborn-whitegrid')\u001b[0m\u001b[1;33m\u001b[0m\u001b[1;33m\u001b[0m\u001b[1;33m\u001b[0m\u001b[0m\n\u001b[0;32m      6\u001b[0m \u001b[1;31m#plt.axhline(y=1,color='r',linestyle='--')\u001b[0m\u001b[1;33m\u001b[0m\u001b[1;33m\u001b[0m\u001b[1;33m\u001b[0m\u001b[0m\n\u001b[1;32m----> 7\u001b[1;33m \u001b[0mplt\u001b[0m\u001b[1;33m.\u001b[0m\u001b[0mplot\u001b[0m\u001b[1;33m(\u001b[0m\u001b[0mpca\u001b[0m\u001b[1;33m.\u001b[0m\u001b[0mexplained_variance_ratio_\u001b[0m\u001b[1;33m,\u001b[0m\u001b[1;34m'o-'\u001b[0m\u001b[1;33m,\u001b[0m\u001b[0mlinewidth\u001b[0m\u001b[1;33m=\u001b[0m\u001b[1;36m1\u001b[0m\u001b[1;33m,\u001b[0m\u001b[0mcolor\u001b[0m\u001b[1;33m=\u001b[0m\u001b[1;34m'blue'\u001b[0m\u001b[1;33m)\u001b[0m\u001b[1;33m\u001b[0m\u001b[1;33m\u001b[0m\u001b[0m\n\u001b[0m\u001b[0;32m      8\u001b[0m \u001b[0mprint\u001b[0m\u001b[1;33m(\u001b[0m\u001b[0mpca\u001b[0m\u001b[1;33m.\u001b[0m\u001b[0mexplained_variance_ratio_\u001b[0m\u001b[1;33m)\u001b[0m\u001b[1;33m\u001b[0m\u001b[1;33m\u001b[0m\u001b[0m\n\u001b[0;32m      9\u001b[0m \u001b[0mprint\u001b[0m\u001b[1;33m(\u001b[0m\u001b[1;34m'\\n全部加總:'\u001b[0m\u001b[1;33m,\u001b[0m\u001b[0msum\u001b[0m\u001b[1;33m(\u001b[0m\u001b[0mpca\u001b[0m\u001b[1;33m.\u001b[0m\u001b[0mexplained_variance_ratio_\u001b[0m\u001b[1;33m)\u001b[0m\u001b[1;33m)\u001b[0m\u001b[1;33m\u001b[0m\u001b[1;33m\u001b[0m\u001b[0m\n",
      "\u001b[1;31mAttributeError\u001b[0m: 'PCA' object has no attribute 'explained_variance_ratio_'"
     ]
    },
    {
     "data": {
      "image/png": "[encoded data removed]",
      "text/plain": [
       "<Figure size 432x288 with 1 Axes>"
      ]
     },
     "metadata": {
      "needs_background": "light"
     },
     "output_type": "display_data"
    }
   ],
   "source": [
    "plt.ylabel('eigenvalue')\n",
    "plt.xlabel('feature')\n",
    "plt.title('PCA Scree Plot')\n",
    "#plt.ylim(0,1)\n",
    "#plt.style.context('seaborn-whitegrid')\n",
    "#plt.axhline(y=1,color='r',linestyle='--')\n",
    "plt.plot(pca.explained_variance_ratio_,'o-',linewidth=1,color='blue')\n",
    "print(pca.explained_variance_ratio_)\n",
    "print('\\n全部加總:',sum(pca.explained_variance_ratio_))\n",
    "plt.show()"
   ]
  },
  {
   "cell_type": "code",
   "execution_count": null,
   "id": "9cd5c1cd",
   "metadata": {},
   "outputs": [],
   "source": [
    "plt.ylabel('eigenvalue')\n",
    "plt.xlabel('feature')\n",
    "plt.title('PCA Scree Plot')\n",
    "#plt.ylim(0,1)\n",
    "#plt.style.context('seaborn-whitegrid')\n",
    "#plt.axhline(y=1,color='r',linestyle='--')\n",
    "plt.plot(pca.explained_variance_,'o-',linewidth=1,color='blue')\n",
    "print(pca.explained_variance_)\n",
    "print('\\n全部加總:',sum(pca.explained_variance_))\n",
    "plt.show()"
   ]
  }
 ],
 "metadata": {
  "kernelspec": {
   "display_name": "jupyter-with-pipenv",
   "language": "python",
   "name": "jupyter-with-pipenv"
  },
  "language_info": {
   "codemirror_mode": {
    "name": "ipython",
    "version": 3
   },
   "file_extension": ".py",
   "mimetype": "text/x-python",
   "name": "python",
   "nbconvert_exporter": "python",
   "pygments_lexer": "ipython3",
   "version": "3.9.5"
  }
 },
 "nbformat": 4,
 "nbformat_minor": 5
}
