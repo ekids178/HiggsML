{
 "cells": [
  {
   "cell_type": "markdown",
   "id": "1d29ca13",
   "metadata": {},
   "source": [
    "# PAC with datasets from CERN opendata\n",
    "## PCA & packages"
   ]
  },
  {
   "cell_type": "code",
   "execution_count": 1,
   "id": "d393460a",
   "metadata": {},
   "outputs": [],
   "source": [
    "import matplotlib.pyplot as plt\n",
    "from sklearn import preprocessing\n",
    "import numpy as np\n",
    "from mpl_toolkits.mplot3d import Axes3D\n",
    "from sklearn import datasets\n",
    "from sklearn.decomposition import PCA\n",
    "import pandas as pd\n",
    "import io"
   ]
  },
  {
   "cell_type": "markdown",
   "id": "b5362b5b",
   "metadata": {},
   "source": [
    "## Data"
   ]
  },
  {
   "cell_type": "code",
   "execution_count": 23,
   "id": "449aee7a",
   "metadata": {},
   "outputs": [],
   "source": [
    "data = pd.read_csv('training.csv')"
   ]
  },
  {
   "cell_type": "code",
   "execution_count": 24,
   "id": "38255acf",
   "metadata": {},
   "outputs": [
    {
     "name": "stdout",
     "output_type": "stream",
     "text": [
      "<class 'pandas.core.frame.DataFrame'>\n",
      "RangeIndex: 250000 entries, 0 to 249999\n",
      "Data columns (total 33 columns):\n",
      " #   Column                       Non-Null Count   Dtype  \n",
      "---  ------                       --------------   -----  \n",
      " 0   EventId                      250000 non-null  int64  \n",
      " 1   DER_mass_MMC                 250000 non-null  float64\n",
      " 2   DER_mass_transverse_met_lep  250000 non-null  float64\n",
      " 3   DER_mass_vis                 250000 non-null  float64\n",
      " 4   DER_pt_h                     250000 non-null  float64\n",
      " 5   DER_deltaeta_jet_jet         250000 non-null  float64\n",
      " 6   DER_mass_jet_jet             250000 non-null  float64\n",
      " 7   DER_prodeta_jet_jet          250000 non-null  float64\n",
      " 8   DER_deltar_tau_lep           250000 non-null  float64\n",
      " 9   DER_pt_tot                   250000 non-null  float64\n",
      " 10  DER_sum_pt                   250000 non-null  float64\n",
      " 11  DER_pt_ratio_lep_tau         250000 non-null  float64\n",
      " 12  DER_met_phi_centrality       250000 non-null  float64\n",
      " 13  DER_lep_eta_centrality       250000 non-null  float64\n",
      " 14  PRI_tau_pt                   250000 non-null  float64\n",
      " 15  PRI_tau_eta                  250000 non-null  float64\n",
      " 16  PRI_tau_phi                  250000 non-null  float64\n",
      " 17  PRI_lep_pt                   250000 non-null  float64\n",
      " 18  PRI_lep_eta                  250000 non-null  float64\n",
      " 19  PRI_lep_phi                  250000 non-null  float64\n",
      " 20  PRI_met                      250000 non-null  float64\n",
      " 21  PRI_met_phi                  250000 non-null  float64\n",
      " 22  PRI_met_sumet                250000 non-null  float64\n",
      " 23  PRI_jet_num                  250000 non-null  int64  \n",
      " 24  PRI_jet_leading_pt           250000 non-null  float64\n",
      " 25  PRI_jet_leading_eta          250000 non-null  float64\n",
      " 26  PRI_jet_leading_phi          250000 non-null  float64\n",
      " 27  PRI_jet_subleading_pt        250000 non-null  float64\n",
      " 28  PRI_jet_subleading_eta       250000 non-null  float64\n",
      " 29  PRI_jet_subleading_phi       250000 non-null  float64\n",
      " 30  PRI_jet_all_pt               250000 non-null  float64\n",
      " 31  Weight                       250000 non-null  float64\n",
      " 32  Label                        250000 non-null  object \n",
      "dtypes: float64(30), int64(2), object(1)\n",
      "memory usage: 62.9+ MB\n"
     ]
    }
   ],
   "source": [
    "data.info()"
   ]
  },
  {
   "cell_type": "code",
   "execution_count": 25,
   "id": "d0fb653f",
   "metadata": {
    "scrolled": true
   },
   "outputs": [
    {
     "name": "stdout",
     "output_type": "stream",
     "text": [
      "<class 'pandas.core.frame.DataFrame'>\n",
      "RangeIndex: 250000 entries, 0 to 249999\n",
      "Data columns (total 31 columns):\n",
      " #   Column                       Non-Null Count   Dtype  \n",
      "---  ------                       --------------   -----  \n",
      " 0   DER_mass_MMC                 250000 non-null  float64\n",
      " 1   DER_mass_transverse_met_lep  250000 non-null  float64\n",
      " 2   DER_mass_vis                 250000 non-null  float64\n",
      " 3   DER_pt_h                     250000 non-null  float64\n",
      " 4   DER_deltaeta_jet_jet         250000 non-null  float64\n",
      " 5   DER_mass_jet_jet             250000 non-null  float64\n",
      " 6   DER_prodeta_jet_jet          250000 non-null  float64\n",
      " 7   DER_deltar_tau_lep           250000 non-null  float64\n",
      " 8   DER_pt_tot                   250000 non-null  float64\n",
      " 9   DER_sum_pt                   250000 non-null  float64\n",
      " 10  DER_pt_ratio_lep_tau         250000 non-null  float64\n",
      " 11  DER_met_phi_centrality       250000 non-null  float64\n",
      " 12  DER_lep_eta_centrality       250000 non-null  float64\n",
      " 13  PRI_tau_pt                   250000 non-null  float64\n",
      " 14  PRI_tau_eta                  250000 non-null  float64\n",
      " 15  PRI_tau_phi                  250000 non-null  float64\n",
      " 16  PRI_lep_pt                   250000 non-null  float64\n",
      " 17  PRI_lep_eta                  250000 non-null  float64\n",
      " 18  PRI_lep_phi                  250000 non-null  float64\n",
      " 19  PRI_met                      250000 non-null  float64\n",
      " 20  PRI_met_phi                  250000 non-null  float64\n",
      " 21  PRI_met_sumet                250000 non-null  float64\n",
      " 22  PRI_jet_num                  250000 non-null  int64  \n",
      " 23  PRI_jet_leading_pt           250000 non-null  float64\n",
      " 24  PRI_jet_leading_eta          250000 non-null  float64\n",
      " 25  PRI_jet_leading_phi          250000 non-null  float64\n",
      " 26  PRI_jet_subleading_pt        250000 non-null  float64\n",
      " 27  PRI_jet_subleading_eta       250000 non-null  float64\n",
      " 28  PRI_jet_subleading_phi       250000 non-null  float64\n",
      " 29  PRI_jet_all_pt               250000 non-null  float64\n",
      " 30  Weight                       250000 non-null  float64\n",
      "dtypes: float64(30), int64(1)\n",
      "memory usage: 59.1 MB\n"
     ]
    }
   ],
   "source": [
    "n_data = data.drop(columns = ['EventId','Label'])\n",
    "n_data.info()"
   ]
  },
  {
   "cell_type": "code",
   "execution_count": 26,
   "id": "9f9218cf",
   "metadata": {},
   "outputs": [
    {
     "name": "stdout",
     "output_type": "stream",
     "text": [
      "pca後維度: 15\n"
     ]
    }
   ],
   "source": [
    "pca = PCA(n_components = 0.95)\n",
    "\n",
    "n_data = preprocessing.scale(n_data)\n",
    "\n",
    "z=pca.fit_transform(n_data)\n",
    "\n",
    "print('pca後維度:',pca.n_components_)"
   ]
  },
  {
   "cell_type": "code",
   "execution_count": 29,
   "id": "de632926",
   "metadata": {},
   "outputs": [
    {
     "data": {
      "text/plain": [
       "0.9603790182980806"
      ]
     },
     "execution_count": 29,
     "metadata": {},
     "output_type": "execute_result"
    }
   ],
   "source": [
    "np.sum(pca.explained_variance_ratio_)#它代表降维後的各主成分的方差值占總方差值的比例，這個比例越大，則越是重要的主成分。"
   ]
  },
  {
   "cell_type": "code",
   "execution_count": 30,
   "id": "87bc173f",
   "metadata": {},
   "outputs": [
    {
     "data": {
      "text/plain": [
       "29.771868654715124"
      ]
     },
     "execution_count": 30,
     "metadata": {},
     "output_type": "execute_result"
    }
   ],
   "source": [
    "np.sum(pca.explained_variance_)#它代表降维后的各主成分的方差值。方差值越大，則說明越是重要的主成分"
   ]
  },
  {
   "cell_type": "code",
   "execution_count": 31,
   "id": "6786f94d",
   "metadata": {},
   "outputs": [
    {
     "name": "stdout",
     "output_type": "stream",
     "text": [
      "z.shape : (250000, 15)\n",
      "data.shape : (250000, 31)\n"
     ]
    }
   ],
   "source": [
    "#(資料筆數，維度)\n",
    "print('z.shape :',z.shape)\n",
    "print('data.shape :',n_data.shape)"
   ]
  },
  {
   "cell_type": "code",
   "execution_count": 32,
   "id": "533f0f06",
   "metadata": {},
   "outputs": [
    {
     "name": "stdout",
     "output_type": "stream",
     "text": [
      "[[ 3.90911346e+00  5.78581199e-01 -1.80705097e+00 ...  6.83198493e-01\n",
      "  -6.67599614e-01  7.61885512e-01]\n",
      " [-1.00243543e+00 -1.70261828e+00  6.45995957e-01 ...  2.84391493e-03\n",
      "  -6.84505136e-01 -8.00539318e-01]\n",
      " [-7.27751351e-01  2.63559712e+00  4.31448779e+00 ...  1.88685645e+00\n",
      "  -1.48932567e+00  5.11571991e-02]\n",
      " ...\n",
      " [-7.35822271e-01 -1.78417992e+00  7.22065055e-01 ...  4.26704194e-01\n",
      "  -4.79957188e-02  3.52076794e-01]\n",
      " [-3.04071472e+00 -1.01537784e+00 -1.39508123e+00 ...  6.26691202e-01\n",
      "  -6.47517432e-01  9.17163478e-01]\n",
      " [-3.30136900e+00  1.03935038e+00 -2.76123692e-01 ...  9.28851215e-01\n",
      "  -5.15630205e-02 -1.44406756e-01]]\n"
     ]
    }
   ],
   "source": [
    "print(z)"
   ]
  },
  {
   "cell_type": "markdown",
   "id": "1607ce42",
   "metadata": {},
   "source": [
    "## Visualization"
   ]
  },
  {
   "cell_type": "code",
   "execution_count": 33,
   "id": "b64006e7",
   "metadata": {},
   "outputs": [
    {
     "name": "stdout",
     "output_type": "stream",
     "text": [
      "[0.40465852 0.08078588 0.07620049 0.06401584 0.05376054 0.05015486\n",
      " 0.03894051 0.03648106 0.03247113 0.02927855 0.02533428 0.02148297\n",
      " 0.01778491 0.01476022 0.01426925]\n",
      "\n",
      "全部加總: 0.9603790182980806\n"
     ]
    },
    {
     "data": {
      "image/png": "[encoded data removed]",
      "text/plain": [
       "<Figure size 432x288 with 1 Axes>"
      ]
     },
     "metadata": {
      "needs_background": "light"
     },
     "output_type": "display_data"
    }
   ],
   "source": [
    "plt.ylabel('eigenvalue')\n",
    "plt.xlabel('feature')\n",
    "plt.title('PCA Scree Plot')\n",
    "#plt.ylim(0,1)\n",
    "#plt.style.context('seaborn-whitegrid')\n",
    "#plt.axhline(y=1,color='r',linestyle='--')\n",
    "plt.plot(pca.explained_variance_ratio_,'o-',linewidth=1,color='blue')\n",
    "print(pca.explained_variance_ratio_)\n",
    "print('\\n全部加總:',sum(pca.explained_variance_ratio_))\n",
    "plt.show()"
   ]
  },
  {
   "cell_type": "code",
   "execution_count": 34,
   "id": "9cd5c1cd",
   "metadata": {},
   "outputs": [
    {
     "name": "stdout",
     "output_type": "stream",
     "text": [
      "[12.54446445  2.50437245  2.36222464  1.98449892  1.66658327  1.55480702\n",
      "  1.20716074  1.13091741  1.00660891  0.90763854  0.78536584  0.66597477\n",
      "  0.55133452  0.45756853  0.44234864]\n",
      "\n",
      "全部加總: 29.771868654715124\n"
     ]
    },
    {
     "data": {
      "image/png": "[encoded data removed]",
      "text/plain": [
       "<Figure size 432x288 with 1 Axes>"
      ]
     },
     "metadata": {
      "needs_background": "light"
     },
     "output_type": "display_data"
    }
   ],
   "source": [
    "plt.ylabel('eigenvalue')\n",
    "plt.xlabel('feature')\n",
    "plt.title('PCA Scree Plot')\n",
    "#plt.ylim(0,1)\n",
    "#plt.style.context('seaborn-whitegrid')\n",
    "#plt.axhline(y=1,color='r',linestyle='--')\n",
    "plt.plot(pca.explained_variance_,'o-',linewidth=1,color='blue')\n",
    "print(pca.explained_variance_)\n",
    "print('\\n全部加總:',sum(pca.explained_variance_))\n",
    "plt.show()"
   ]
  },
  {
   "cell_type": "code",
   "execution_count": null,
   "id": "6e85d5f2",
   "metadata": {},
   "outputs": [],
   "source": []
  }
 ],
 "metadata": {
  "kernelspec": {
   "display_name": "jupyter-with-pipenv",
   "language": "python",
   "name": "jupyter-with-pipenv"
  },
  "language_info": {
   "codemirror_mode": {
    "name": "ipython",
    "version": 3
   },
   "file_extension": ".py",
   "mimetype": "text/x-python",
   "name": "python",
   "nbconvert_exporter": "python",
   "pygments_lexer": "ipython3",
   "version": "3.9.5"
  }
 },
 "nbformat": 4,
 "nbformat_minor": 5
}
